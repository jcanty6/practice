{
  "nbformat": 4,
  "nbformat_minor": 0,
  "metadata": {
    "colab": {
      "name": "Untitled0.ipynb",
      "provenance": [],
      "authorship_tag": "ABX9TyMaoiAOjPnkhNBgNUA5qLri",
      "include_colab_link": true
    },
    "kernelspec": {
      "name": "python3",
      "display_name": "Python 3"
    }
  },
  "cells": [
    {
      "cell_type": "markdown",
      "metadata": {
        "id": "view-in-github",
        "colab_type": "text"
      },
      "source": [
        "<a href=\"https://colab.research.google.com/github/jcanty6/practice/blob/master/Untitled0.ipynb\" target=\"_parent\"><img src=\"https://colab.research.google.com/assets/colab-badge.svg\" alt=\"Open In Colab\"/></a>"
      ]
    },
    {
      "cell_type": "code",
      "metadata": {
        "id": "D8uPXZ_9Mywa",
        "colab_type": "code",
        "colab": {}
      },
      "source": [
        "## Hello\n"
      ],
      "execution_count": 0,
      "outputs": []
    },
    {
      "cell_type": "markdown",
      "metadata": {
        "id": "zYiLyxYJM3fV",
        "colab_type": "text"
      },
      "source": [
        "(Hello)"
      ]
    },
    {
      "cell_type": "markdown",
      "metadata": {
        "id": "xtgZgGIeM6fE",
        "colab_type": "text"
      },
      "source": [
        "def hello() :\n",
        "  print (\"Hello World\")\n",
        "  "
      ]
    },
    {
      "cell_type": "markdown",
      "metadata": {
        "id": "tWdJkQaKNg1l",
        "colab_type": "text"
      },
      "source": [
        "print \"Hello World\""
      ]
    },
    {
      "cell_type": "markdown",
      "metadata": {
        "id": "MByqPlP1N9BQ",
        "colab_type": "text"
      },
      "source": [
        "collab test"
      ]
    },
    {
      "cell_type": "markdown",
      "metadata": {
        "id": "NEnLUCNgNm1e",
        "colab_type": "text"
      },
      "source": [
        ""
      ]
    },
    {
      "cell_type": "code",
      "metadata": {
        "id": "tojrEqnKNngW",
        "colab_type": "code",
        "colab": {}
      },
      "source": [
        "def hello():\n",
        "  print (\"Hello Class\")"
      ],
      "execution_count": 0,
      "outputs": []
    },
    {
      "cell_type": "markdown",
      "metadata": {
        "id": "nGlEeSDSNyCr",
        "colab_type": "text"
      },
      "source": [
        ""
      ]
    },
    {
      "cell_type": "code",
      "metadata": {
        "id": "6i9xYGNFOSYm",
        "colab_type": "code",
        "colab": {}
      },
      "source": [
        "#hello\n"
      ],
      "execution_count": 0,
      "outputs": []
    }
  ]
}